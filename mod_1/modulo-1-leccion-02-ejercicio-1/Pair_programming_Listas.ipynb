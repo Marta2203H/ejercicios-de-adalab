{
 "cells": [
  {
   "cell_type": "code",
   "execution_count": 3,
   "metadata": {},
   "outputs": [
    {
     "name": "stdout",
     "output_type": "stream",
     "text": [
      "[2, 4, 6, 8, 2, 4, 6, 8]\n"
     ]
    }
   ],
   "source": [
    "# dada la siguiente lista el output esperado es:\n",
    "lista = [2, 4, 6, 8]\n",
    "\n",
    "[2, 4, 6, 8, 2, 4, 6, 8]\n",
    "\n",
    "lista.extend([2, 4, 6, 8])\n",
    "\n",
    "print(lista)"
   ]
  },
  {
   "cell_type": "code",
   "execution_count": 7,
   "metadata": {},
   "outputs": [
    {
     "name": "stdout",
     "output_type": "stream",
     "text": [
      "[7, 24, 72, 14, 55, 96]\n"
     ]
    }
   ],
   "source": [
    "# dadas las siguientes listas el output esperado es:\n",
    "lista1 = [7, 24, 72]\n",
    "lista2 = [14, 55, 96]\n",
    "\n",
    "lista1.extend(lista2)\n",
    "\n",
    "print(lista1)"
   ]
  },
  {
   "cell_type": "code",
   "execution_count": 11,
   "metadata": {},
   "outputs": [
    {
     "name": "stdout",
     "output_type": "stream",
     "text": [
      "268\n"
     ]
    }
   ],
   "source": [
    "# Calcular la suma de una lista de números\n",
    "\n",
    "# Descripción: Dada una lista de números, calcula la suma de todos los elementos.\n",
    "\n",
    "resultado = sum (lista1)\n",
    "\n",
    "print(resultado)"
   ]
  },
  {
   "cell_type": "code",
   "execution_count": 14,
   "metadata": {},
   "outputs": [
    {
     "data": {
      "text/plain": [
       "96"
      ]
     },
     "execution_count": 14,
     "metadata": {},
     "output_type": "execute_result"
    }
   ],
   "source": [
    "#Encontrar el valor máximo en una lista\n",
    "\n",
    "#Descripción: Dada una lista de números, encuentra el valor máximo.\n",
    "\n",
    "max(lista1)"
   ]
  },
  {
   "cell_type": "code",
   "execution_count": 18,
   "metadata": {},
   "outputs": [
    {
     "data": {
      "text/plain": [
       "6"
      ]
     },
     "execution_count": 18,
     "metadata": {},
     "output_type": "execute_result"
    }
   ],
   "source": [
    "#Calcular la longitud de una lista\n",
    "\n",
    "#Descripción: Dada una lista, calcula la cantidad de elementos que contiene.\n",
    "\n",
    "len(lista1)"
   ]
  },
  {
   "cell_type": "code",
   "execution_count": 24,
   "metadata": {},
   "outputs": [
    {
     "name": "stdout",
     "output_type": "stream",
     "text": [
      "[7, 24, 72, 14, 55, 96]\n"
     ]
    },
    {
     "data": {
      "text/plain": [
       "2"
      ]
     },
     "execution_count": 24,
     "metadata": {},
     "output_type": "execute_result"
    }
   ],
   "source": [
    "# Encontrar el índice de un elemento en una lista\n",
    "\n",
    "# Descripción: Dada una lista y un valor objetivo, encuentra el índice del primer elemento que coincida con el valor objetivo.\n",
    "\n",
    "print(lista1)\n",
    "\n",
    "lista1.index(72)"
   ]
  },
  {
   "cell_type": "code",
   "execution_count": 25,
   "metadata": {},
   "outputs": [
    {
     "data": {
      "text/plain": [
       "1"
      ]
     },
     "execution_count": 25,
     "metadata": {},
     "output_type": "execute_result"
    }
   ],
   "source": [
    "#Contar ocurrencias de un elemento en una lista\n",
    "\n",
    "#Descripción: Dada una lista y un valor objetivo, cuenta cuántas veces aparece el valor objetivo en la lista.\n",
    "\n",
    "lista1.count(55)"
   ]
  },
  {
   "cell_type": "code",
   "execution_count": 37,
   "metadata": {},
   "outputs": [
    {
     "name": "stdout",
     "output_type": "stream",
     "text": [
      "[7, 24, 72, 14, 55, 96]\n",
      "[72, 14, 55]\n"
     ]
    }
   ],
   "source": [
    "#Obtener una sublista de una lista\n",
    "\n",
    "#Descripción: Dada una lista, crea una nueva lista que contenga los elementos desde el índice 2 hasta el índice 5 (sin incluirlo).\n",
    "\n",
    "print(lista1)\n",
    "\n",
    "lista3 = lista1[2:5]\n",
    "\n",
    "print(lista3)"
   ]
  },
  {
   "cell_type": "code",
   "execution_count": 38,
   "metadata": {},
   "outputs": [
    {
     "data": {
      "text/plain": [
       "96"
      ]
     },
     "execution_count": 38,
     "metadata": {},
     "output_type": "execute_result"
    }
   ],
   "source": [
    "# Obtener el último elemento de una lista\n",
    "\n",
    "# Descripción: Dada una lista, obtén el último elemento.\n",
    "\n",
    "lista1[-1]"
   ]
  },
  {
   "cell_type": "code",
   "execution_count": 39,
   "metadata": {},
   "outputs": [
    {
     "data": {
      "text/plain": [
       "55"
      ]
     },
     "execution_count": 39,
     "metadata": {},
     "output_type": "execute_result"
    }
   ],
   "source": [
    "\n",
    "# Obtener el último elemento de una lista\n",
    "\n",
    "# Descripción: Dada una lista, obtén el último elemento.\n",
    "\n",
    "lista3[-1]"
   ]
  },
  {
   "cell_type": "code",
   "execution_count": 41,
   "metadata": {},
   "outputs": [
    {
     "name": "stdout",
     "output_type": "stream",
     "text": [
      "[24, 72]\n"
     ]
    }
   ],
   "source": [
    "# Obtener una sublista de una lista\n",
    "\n",
    "# Descripción: Dada una lista, obtén una sublista que contenga los elementos desde el índice 1 hasta el índice 3 (sin incluirlo).\n",
    "\n",
    "lista4 = lista1[1:3]\n",
    "\n",
    "print(lista4)"
   ]
  },
  {
   "cell_type": "code",
   "execution_count": 43,
   "metadata": {},
   "outputs": [
    {
     "name": "stdout",
     "output_type": "stream",
     "text": [
      "[7, 24, 17, 14, 55, 96]\n"
     ]
    }
   ],
   "source": [
    "# Reemplazar un elemento en una lista\n",
    "\n",
    "# Descripción: Dada una lista, reemplaza el segundo elemento con un nuevo valor.\n",
    "\n",
    "lista1[2]=17\n",
    "\n",
    "print(lista1)"
   ]
  },
  {
   "cell_type": "code",
   "execution_count": 60,
   "metadata": {},
   "outputs": [
    {
     "name": "stdout",
     "output_type": "stream",
     "text": [
      "[96, 55, 24, 17, 14, 7]\n"
     ]
    }
   ],
   "source": [
    "#Obtener una lista inversa\n",
    "\n",
    "#Descripción: Dada una lista, obtén una nueva lista que contenga los elementos en orden inverso.\n",
    "\n",
    "lista1.reverse()\n",
    "\n",
    "print(lista1)\n"
   ]
  },
  {
   "cell_type": "code",
   "execution_count": 61,
   "metadata": {},
   "outputs": [
    {
     "name": "stdout",
     "output_type": "stream",
     "text": [
      "[7, 14, 17, 24, 55, 96]\n"
     ]
    }
   ],
   "source": [
    "# Ordenar una lista en orden ascendente\n",
    "\n",
    "# Descripción: Dada una lista de números, ordénala en orden ascendente.\n",
    "\n",
    "lista1.sort()\n",
    "\n",
    "print(lista1)"
   ]
  },
  {
   "cell_type": "code",
   "execution_count": 64,
   "metadata": {},
   "outputs": [
    {
     "name": "stdout",
     "output_type": "stream",
     "text": [
      "[7, 17, 55]\n"
     ]
    }
   ],
   "source": [
    "# Obtener elementos pares de una lista\n",
    "\n",
    "#Descripción: Dada una lista, obtén una nueva lista que contenga solo los elementos en posiciones pares.\n",
    "\n",
    "lista5 = lista1[0:6:2]\n",
    "\n",
    "print(lista5)"
   ]
  },
  {
   "cell_type": "code",
   "execution_count": 65,
   "metadata": {},
   "outputs": [
    {
     "name": "stdout",
     "output_type": "stream",
     "text": [
      "[7, 24]\n"
     ]
    }
   ],
   "source": [
    "# Obtener una sublista saltando elementos\n",
    "\n",
    "# Descripción: Dada una lista, obtén una sublista que contenga los elementos saltando de 3 en 3.\n",
    "\n",
    "lista6 = lista1[0:6:3]\n",
    "\n",
    "print (lista6)"
   ]
  },
  {
   "cell_type": "code",
   "execution_count": 73,
   "metadata": {},
   "outputs": [
    {
     "name": "stdout",
     "output_type": "stream",
     "text": [
      "[7, 14, 17, 24, 55, 96]\n"
     ]
    },
    {
     "data": {
      "text/plain": [
       "55"
      ]
     },
     "execution_count": 73,
     "metadata": {},
     "output_type": "execute_result"
    }
   ],
   "source": [
    "# Encontrar el segundo valor máximo en una lista\n",
    "\n",
    "# Descripción: Dada una lista de números, encuentra el segundo valor máximo.\n",
    "\n",
    "lista1.sort()\n",
    "\n",
    "print(lista1)\n",
    "\n",
    "lista1[-2]"
   ]
  },
  {
   "cell_type": "markdown",
   "metadata": {},
   "source": [
    "Teórico. Debereis contestar la pregunta en una celda de markdown.\n",
    "\n",
    "Descripción: ¿Qué diferencia existe entre el .sort() y el sorted()\n",
    "\n",
    "- .sort() no modifica la lista original\n",
    "- sorted () modifica la lista original"
   ]
  },
  {
   "cell_type": "code",
   "execution_count": null,
   "metadata": {},
   "outputs": [],
   "source": [
    "#Agregar elementos a una lista utilizando append y extend\n",
    "\n",
    "#Descripción: Dada una lista inicial, agrega nuevos elementos utilizando tanto append como extend y observa las diferencias en el resultado final. El elemento que deberéis usar para añadir a la lista original tiene que ser una lista.\n",
    "\n",
    "lista1.append []"
   ]
  }
 ],
 "metadata": {
  "kernelspec": {
   "display_name": "base",
   "language": "python",
   "name": "python3"
  },
  "language_info": {
   "codemirror_mode": {
    "name": "ipython",
    "version": 3
   },
   "file_extension": ".py",
   "mimetype": "text/x-python",
   "name": "python",
   "nbconvert_exporter": "python",
   "pygments_lexer": "ipython3",
   "version": "3.9.12"
  }
 },
 "nbformat": 4,
 "nbformat_minor": 2
}
